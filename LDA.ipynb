{
 "cells": [
  {
   "cell_type": "code",
   "execution_count": 1,
   "metadata": {
    "collapsed": true
   },
   "outputs": [],
   "source": [
    "import numpy as np\n",
    "import pickle\n",
    "import nltk\n",
    "from nltk.tokenize import sent_tokenize, word_tokenize\n",
    "from nltk.corpus import stopwords\n",
    "from gensim.models.ldamodel import LdaModel\n",
    "from gensim import corpora, models, similarities\n",
    "from textblob import TextBlob"
   ]
  },
  {
   "cell_type": "code",
   "execution_count": 2,
   "metadata": {
    "collapsed": true
   },
   "outputs": [],
   "source": [
    "with open('corpus.pkl', 'rb') as pkl_file:\n",
    "    documents = pickle.load(pkl_file)"
   ]
  },
  {
   "cell_type": "code",
   "execution_count": 3,
   "metadata": {
    "collapsed": false
   },
   "outputs": [],
   "source": [
    "stop = stopwords.words('english')\n",
    "ignore = [\"people\", \"man\", \"good\", \"city\", \"dont\", \"new\", \"thing\", \"time\", \"thats\", \"way\", \"kyi\", \"suu\", \"week\",\n",
    "          \"year\", \"x\", \"hide\", \"mr\", \"im\", \"your\", \"years\", \"lot\", \"didnt\", \"use\", \"theres\", \"hes\", \"news\", \"things\",\n",
    "         \"youre\", \"story\", \"lot\", \"life\"]\n",
    "stopset = set(stop) | set(ignore)"
   ]
  },
  {
   "cell_type": "code",
   "execution_count": 4,
   "metadata": {
    "collapsed": false
   },
   "outputs": [],
   "source": [
    "texts = [[word for word in document.lower().replace(\".\", \"\").split() if word not in stopset ] for document in documents]"
   ]
  },
  {
   "cell_type": "code",
   "execution_count": 5,
   "metadata": {
    "collapsed": false
   },
   "outputs": [],
   "source": [
    "noun_text = []\n",
    "for t in texts:\n",
    "    NN_tags = TextBlob(\" \".join(t)).noun_phrases\n",
    "    noun_text.append(NN_tags)"
   ]
  },
  {
   "cell_type": "code",
   "execution_count": 6,
   "metadata": {
    "collapsed": false
   },
   "outputs": [
    {
     "name": "stdout",
     "output_type": "stream",
     "text": [
      "[u'transcript', u'gma', u'deals', u'steals', u'oprah', u'winfrey', u'edition']\n"
     ]
    }
   ],
   "source": [
    "wl = noun_text[0][0].split()\n",
    "print wl"
   ]
  },
  {
   "cell_type": "code",
   "execution_count": 7,
   "metadata": {
    "collapsed": false
   },
   "outputs": [],
   "source": [
    "texts2 = []\n",
    "for t2 in noun_text:\n",
    "    texts2.append(\" \".join(t2).split())"
   ]
  },
  {
   "cell_type": "code",
   "execution_count": 8,
   "metadata": {
    "collapsed": false
   },
   "outputs": [],
   "source": [
    "from collections import defaultdict\n",
    "frequency = defaultdict(int)\n",
    "for text in texts2:\n",
    "    for token in text:\n",
    "            frequency[token] += 1\n",
    "        \n",
    "texts = [[token for token in text if frequency[token] > 1] for text in texts2]"
   ]
  },
  {
   "cell_type": "code",
   "execution_count": 9,
   "metadata": {
    "collapsed": true
   },
   "outputs": [],
   "source": [
    "dictionary = corpora.Dictionary(texts)\n",
    "dictionary.save('articles.dict')"
   ]
  },
  {
   "cell_type": "code",
   "execution_count": 10,
   "metadata": {
    "collapsed": true
   },
   "outputs": [],
   "source": [
    "corpus = [dictionary.doc2bow(text) for text in texts]\n",
    "corpora.MmCorpus.serialize('articles.mm', corpus)"
   ]
  },
  {
   "cell_type": "code",
   "execution_count": 11,
   "metadata": {
    "collapsed": false
   },
   "outputs": [],
   "source": [
    "lda = LdaModel(corpus, id2word=dictionary, num_topics=10, passes=100)"
   ]
  },
  {
   "cell_type": "code",
   "execution_count": 12,
   "metadata": {
    "collapsed": false
   },
   "outputs": [
    {
     "data": {
      "text/plain": [
       "[(0,\n",
       "  u'0.012*president + 0.008*republican + 0.008*clinton + 0.008*trump + 0.008*bush + 0.007*carson + 0.007*campaign + 0.007*presidential + 0.006*political + 0.005*party'),\n",
       " (1,\n",
       "  u'0.006*percent + 0.005*china + 0.005*business + 0.004*market + 0.004*university + 0.004*students + 0.004*company + 0.004*rate + 0.004*school + 0.004*work'),\n",
       " (2,\n",
       "  u'0.008*russian + 0.007*food + 0.006*plane + 0.005*crash + 0.004*british + 0.004*egypt + 0.004*autoplay + 0.004*airport + 0.004*flight + 0.004*flights'),\n",
       " (3,\n",
       "  u'0.006*kim + 0.005*police + 0.005*kardashian + 0.005*church + 0.004*photo + 0.004*reporter + 0.004*seas + 0.004*royal + 0.004*ship + 0.004*family'),\n",
       " (4,\n",
       "  u'0.008*state + 0.007*government + 0.006*police + 0.006*law + 0.005*war + 0.004*president + 0.004*military + 0.004*security + 0.004*obama + 0.004*department'),\n",
       " (5,\n",
       "  u'0.009*space + 0.008*android + 0.007*camera + 0.006*screen + 0.005*design + 0.005*phone + 0.005*surface + 0.005*mars + 0.005*app + 0.004*video'),\n",
       " (6,\n",
       "  u'0.005*book + 0.005*world + 0.004*women + 0.004*film + 0.004*work + 0.004*kind + 0.003*movie + 0.003*show + 0.003*science + 0.003*family'),\n",
       " (7,\n",
       "  u'0.008*health + 0.007*heart + 0.007*climate + 0.007*cancer + 0.006*study + 0.006*research + 0.005*medical + 0.005*researchers + 0.005*disease + 0.005*water'),\n",
       " (8,\n",
       "  u'0.007*data + 0.006*information + 0.006*company + 0.005*internet + 0.005*service + 0.005*access + 0.005*users + 0.005*google + 0.004*services + 0.004*online'),\n",
       " (9,\n",
       "  u'0.015*game + 0.008*games + 0.008*tv + 0.007*season + 0.006*sports + 0.005*team + 0.005*world + 0.004*football + 0.004*cup + 0.003*players')]"
      ]
     },
     "execution_count": 12,
     "metadata": {},
     "output_type": "execute_result"
    }
   ],
   "source": [
    "lda.print_topics(num_topics = 10, num_words=10)"
   ]
  },
  {
   "cell_type": "code",
   "execution_count": null,
   "metadata": {
    "collapsed": true
   },
   "outputs": [],
   "source": []
  }
 ],
 "metadata": {
  "kernelspec": {
   "display_name": "Python 2",
   "language": "python",
   "name": "python2"
  },
  "language_info": {
   "codemirror_mode": {
    "name": "ipython",
    "version": 2
   },
   "file_extension": ".py",
   "mimetype": "text/x-python",
   "name": "python",
   "nbconvert_exporter": "python",
   "pygments_lexer": "ipython2",
   "version": "2.7.10"
  }
 },
 "nbformat": 4,
 "nbformat_minor": 0
}
