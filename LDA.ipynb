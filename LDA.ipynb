{
 "cells": [
  {
   "cell_type": "code",
   "execution_count": 88,
   "metadata": {
    "collapsed": true
   },
   "outputs": [],
   "source": [
    "import numpy as np\n",
    "import pickle\n",
    "import nltk\n",
    "from nltk.tokenize import sent_tokenize, word_tokenize\n",
    "from nltk.corpus import stopwords\n",
    "from gensim.models.ldamodel import LdaModel\n",
    "from gensim import corpora, models, similarities\n",
    "from textblob import TextBlob"
   ]
  },
  {
   "cell_type": "code",
   "execution_count": 140,
   "metadata": {
    "collapsed": true
   },
   "outputs": [],
   "source": [
    "with open('corpus.pkl', 'rb') as pkl_file:\n",
    "    documents = pickle.load(pkl_file)"
   ]
  },
  {
   "cell_type": "code",
   "execution_count": 151,
   "metadata": {
    "collapsed": false
   },
   "outputs": [],
   "source": [
    "stop = stopwords.words('english')\n",
    "ignore = [\"people\", \"man\", \"good\", \"city\", \"dont\", \"new\", \"thing\", \"time\", \"thats\", \"way\", \"kyi\", \"suu\", \"week\",\n",
    "          \"year\", \"x\", \"hide\", \"mr\", \"im\", \"your\", \"years\", \"lot\", \"didnt\", \"use\", \"theres\", \"hes\", \"news\", \"things\",\n",
    "         \"youre\", \"story\", \"lot\", \"life\"]\n",
    "stopset = set(stop) | set(ignore)"
   ]
  },
  {
   "cell_type": "code",
   "execution_count": 152,
   "metadata": {
    "collapsed": false
   },
   "outputs": [],
   "source": [
    "texts = [[word for word in document.lower().replace(\".\", \"\").split() if word not in stopset ] for document in documents]"
   ]
  },
  {
   "cell_type": "code",
   "execution_count": 153,
   "metadata": {
    "collapsed": false
   },
   "outputs": [],
   "source": [
    "noun_text = []\n",
    "for t in texts:\n",
    "    NN_tags = TextBlob(\" \".join(t)).noun_phrases\n",
    "    noun_text.append(NN_tags)"
   ]
  },
  {
   "cell_type": "code",
   "execution_count": 97,
   "metadata": {
    "collapsed": false
   },
   "outputs": [
    {
     "name": "stdout",
     "output_type": "stream",
     "text": [
      "[u'transcript', u'gma', u'deals', u'steals', u'oprah', u'winfrey', u'edition']\n"
     ]
    }
   ],
   "source": [
    "wl = noun_text[0][0].split()\n",
    "print wl"
   ]
  },
  {
   "cell_type": "code",
   "execution_count": 154,
   "metadata": {
    "collapsed": false
   },
   "outputs": [],
   "source": [
    "texts2 = []\n",
    "for t2 in noun_text:\n",
    "    texts2.append(\" \".join(t2).split())"
   ]
  },
  {
   "cell_type": "code",
   "execution_count": 155,
   "metadata": {
    "collapsed": false
   },
   "outputs": [],
   "source": [
    "from collections import defaultdict\n",
    "frequency = defaultdict(int)\n",
    "for text in texts2:\n",
    "    for token in text:\n",
    "            frequency[token] += 1\n",
    "        \n",
    "texts = [[token for token in text if frequency[token] > 1] for text in texts2]"
   ]
  },
  {
   "cell_type": "code",
   "execution_count": 156,
   "metadata": {
    "collapsed": true
   },
   "outputs": [],
   "source": [
    "dictionary = corpora.Dictionary(texts)\n",
    "dictionary.save('articles.dict')"
   ]
  },
  {
   "cell_type": "code",
   "execution_count": 157,
   "metadata": {
    "collapsed": true
   },
   "outputs": [],
   "source": [
    "corpus = [dictionary.doc2bow(text) for text in texts]\n",
    "corpora.MmCorpus.serialize('articles.mm', corpus)"
   ]
  },
  {
   "cell_type": "code",
   "execution_count": 160,
   "metadata": {
    "collapsed": false
   },
   "outputs": [],
   "source": [
    "lda = LdaModel(corpus, id2word=dictionary, num_topics=10, passes=100)"
   ]
  },
  {
   "cell_type": "code",
   "execution_count": 162,
   "metadata": {
    "collapsed": false
   },
   "outputs": [
    {
     "data": {
      "text/plain": [
       "[(0,\n",
       "  u'0.006*percent + 0.006*health + 0.005*university + 0.004*research + 0.004*business + 0.004*school + 0.004*company + 0.004*students + 0.004*market + 0.003*rate'),\n",
       " (1,\n",
       "  u'0.015*game + 0.007*season + 0.006*team + 0.006*world + 0.006*mars + 0.005*cup + 0.005*sports + 0.005*games + 0.004*football + 0.004*coach'),\n",
       " (2,\n",
       "  u'0.006*show + 0.006*music + 0.006*photo + 0.005*star + 0.005*film + 0.005*movie + 0.005*kim + 0.004*series + 0.004*bond + 0.004*tv'),\n",
       " (3,\n",
       "  u'0.008*book + 0.008*world + 0.006*science + 0.006*kind + 0.005*women + 0.005*fiction + 0.004*theyre + 0.004*work + 0.004*books + 0.004*idea'),\n",
       " (4,\n",
       "  u'0.009*apple + 0.008*android + 0.008*app + 0.006*phone + 0.005*apps + 0.005*screen + 0.005*camera + 0.005*tv + 0.004*video + 0.004*device'),\n",
       " (5,\n",
       "  u'0.008*family + 0.005*heart + 0.005*day + 0.004*mother + 0.004*home + 0.004*school + 0.003*child + 0.003*reporter + 0.003*father + 0.003*night'),\n",
       " (6,\n",
       "  u'0.010*police + 0.006*law + 0.006*court + 0.005*state + 0.005*war + 0.004*case + 0.004*rights + 0.003*justice + 0.003*isis + 0.003*government'),\n",
       " (7,\n",
       "  u'0.009*data + 0.008*information + 0.007*internet + 0.007*media + 0.007*service + 0.006*access + 0.006*services + 0.006*company + 0.005*google + 0.005*facebook'),\n",
       " (8,\n",
       "  u'0.005*china + 0.004*water + 0.004*space + 0.004*car + 0.004*sea + 0.003*air + 0.003*hotel + 0.003*taiwan + 0.003*chinese + 0.003*design'),\n",
       " (9,\n",
       "  u'0.012*president + 0.006*state + 0.005*political + 0.005*republican + 0.005*trump + 0.005*campaign + 0.005*clinton + 0.005*bush + 0.005*obama + 0.005*carson')]"
      ]
     },
     "execution_count": 162,
     "metadata": {},
     "output_type": "execute_result"
    }
   ],
   "source": [
    "lda.print_topics(num_topics = 10, num_words=10)"
   ]
  },
  {
   "cell_type": "code",
   "execution_count": null,
   "metadata": {
    "collapsed": true
   },
   "outputs": [],
   "source": []
  }
 ],
 "metadata": {
  "kernelspec": {
   "display_name": "Python 2",
   "language": "python",
   "name": "python2"
  },
  "language_info": {
   "codemirror_mode": {
    "name": "ipython",
    "version": 2
   },
   "file_extension": ".py",
   "mimetype": "text/x-python",
   "name": "python",
   "nbconvert_exporter": "python",
   "pygments_lexer": "ipython2",
   "version": "2.7.10"
  }
 },
 "nbformat": 4,
 "nbformat_minor": 0
}
